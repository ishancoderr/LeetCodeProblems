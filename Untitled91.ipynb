{
  "nbformat": 4,
  "nbformat_minor": 0,
  "metadata": {
    "colab": {
      "provenance": [],
      "authorship_tag": "ABX9TyN6VThRYxXTvCXvzMgV857g",
      "include_colab_link": true
    },
    "kernelspec": {
      "name": "python3",
      "display_name": "Python 3"
    },
    "language_info": {
      "name": "python"
    }
  },
  "cells": [
    {
      "cell_type": "markdown",
      "metadata": {
        "id": "view-in-github",
        "colab_type": "text"
      },
      "source": [
        "<a href=\"https://colab.research.google.com/github/ishancoderr/LeetCodeProblems/blob/main/Untitled91.ipynb\" target=\"_parent\"><img src=\"https://colab.research.google.com/assets/colab-badge.svg\" alt=\"Open In Colab\"/></a>"
      ]
    },
    {
      "cell_type": "code",
      "source": [
        "\n",
        "class ListNode:\n",
        "    def __init__(self, val=0, next=None):\n",
        "        self.val = val\n",
        "        self.next = next\n",
        "\n",
        "class Solution:\n",
        "    def addTwoNumbers(self, l1: ListNode, l2: ListNode) -> ListNode:\n",
        "        print(\"l1:\", l1.val)  # Printing the value of the first node in l1\n",
        "        current_l1 = l1.next\n",
        "        current_l2 = l2.next\n",
        "        print(current_l1.val)\n",
        "        print(current_l2.val)\n",
        "        print(ListNode())\n",
        "        sumList = ListNode()\n",
        "\n",
        "solution_instance = Solution()\n",
        "\n",
        "solution_instance.addTwoNumbers(ListNode(2, ListNode(4, ListNode(3))), ListNode(5, ListNode(6, ListNode(4))))\n",
        "\n",
        "\n"
      ],
      "metadata": {
        "colab": {
          "base_uri": "https://localhost:8080/"
        },
        "id": "AATKA8q8H3jD",
        "outputId": "084d072c-d8e1-42d8-d402-c45ebd25e8a6"
      },
      "execution_count": 11,
      "outputs": [
        {
          "output_type": "stream",
          "name": "stdout",
          "text": [
            "l1: 2\n",
            "<__main__.ListNode object at 0x789c7fe8d690>\n",
            "4\n",
            "6\n",
            "<__main__.ListNode object at 0x789cb145f6a0>\n"
          ]
        }
      ]
    },
    {
      "cell_type": "code",
      "source": [],
      "metadata": {
        "id": "2Snx3cK_Ubw1"
      },
      "execution_count": null,
      "outputs": []
    }
  ]
}